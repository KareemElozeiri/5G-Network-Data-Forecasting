{
 "cells": [
  {
   "cell_type": "markdown",
   "metadata": {},
   "source": [
    "# General Model Comparison"
   ]
  },
  {
   "cell_type": "code",
   "execution_count": 1,
   "metadata": {},
   "outputs": [],
   "source": [
    "import sys\n",
    "sys.path.append(\"../\")"
   ]
  },
  {
   "cell_type": "code",
   "execution_count": 2,
   "metadata": {},
   "outputs": [],
   "source": [
    "import numpy as np\n",
    "import pandas as pd\n",
    "import matplotlib.pyplot as plt\n",
    "from cqiforecasting.configs.config import CFGLog\n",
    "from cqiforecasting.dataloader.nn_data_loader import NNDataLoader\n",
    "from cqiforecasting.utils.config import Config\n",
    "from cqiforecasting.executor.inferer import Inferer\n",
    "from sklearn.metrics import mean_absolute_error"
   ]
  },
  {
   "cell_type": "code",
   "execution_count": 3,
   "metadata": {},
   "outputs": [],
   "source": [
    "SEQ_LENGTH = 80\n",
    "BATCH_SIZE = 64\n",
    "EPOCHS = 55\n"
   ]
  },
  {
   "cell_type": "code",
   "execution_count": 4,
   "metadata": {},
   "outputs": [],
   "source": [
    "data_loader = NNDataLoader(Config.from_json(CFGLog).data)"
   ]
  },
  {
   "cell_type": "code",
   "execution_count": 5,
   "metadata": {},
   "outputs": [],
   "source": [
    "X_train, X_val, X_test, y_train, y_val, y_test = data_loader.load_sequences(SEQ_LENGTH, 1, scale=False)"
   ]
  },
  {
   "cell_type": "code",
   "execution_count": 6,
   "metadata": {},
   "outputs": [
    {
     "data": {
      "text/plain": [
       "(460, 80, 1)"
      ]
     },
     "execution_count": 6,
     "metadata": {},
     "output_type": "execute_result"
    }
   ],
   "source": [
    "X_test.shape"
   ]
  },
  {
   "cell_type": "markdown",
   "metadata": {},
   "source": [
    "## LSTM Model"
   ]
  },
  {
   "cell_type": "code",
   "execution_count": 24,
   "metadata": {},
   "outputs": [],
   "source": [
    "from cqiforecasting.models.lstm_model import LSTMModel"
   ]
  },
  {
   "cell_type": "code",
   "execution_count": 25,
   "metadata": {},
   "outputs": [],
   "source": [
    "lstm_model = LSTMModel(SEQ_LENGTH, CFGLog)"
   ]
  },
  {
   "cell_type": "code",
   "execution_count": 26,
   "metadata": {},
   "outputs": [],
   "source": [
    "lstm_model.build()"
   ]
  },
  {
   "cell_type": "code",
   "execution_count": 27,
   "metadata": {},
   "outputs": [],
   "source": [
    "lstm_model.load_data()"
   ]
  },
  {
   "cell_type": "code",
   "execution_count": 28,
   "metadata": {},
   "outputs": [
    {
     "data": {
      "text/plain": [
       "(460, 80, 1)"
      ]
     },
     "execution_count": 28,
     "metadata": {},
     "output_type": "execute_result"
    }
   ],
   "source": [
    "lstm_model.X_test.shape"
   ]
  },
  {
   "cell_type": "code",
   "execution_count": 29,
   "metadata": {},
   "outputs": [
    {
     "name": "stdout",
     "output_type": "stream",
     "text": [
      "Epoch 1/55\n"
     ]
    },
    {
     "name": "stdout",
     "output_type": "stream",
     "text": [
      "39/39 [==============================] - 8s 147ms/step - loss: 0.0698 - mae: 0.2962 - val_loss: 0.0194 - val_mae: 0.1590\n",
      "Epoch 2/55\n",
      "39/39 [==============================] - 4s 107ms/step - loss: 0.0196 - mae: 0.1608 - val_loss: 0.0183 - val_mae: 0.1557\n",
      "Epoch 3/55\n",
      "39/39 [==============================] - 4s 98ms/step - loss: 0.0191 - mae: 0.1584 - val_loss: 0.0180 - val_mae: 0.1540\n",
      "Epoch 4/55\n",
      "39/39 [==============================] - 4s 101ms/step - loss: 0.0189 - mae: 0.1567 - val_loss: 0.0182 - val_mae: 0.1552\n",
      "Epoch 5/55\n",
      "39/39 [==============================] - 6s 144ms/step - loss: 0.0189 - mae: 0.1564 - val_loss: 0.0176 - val_mae: 0.1514\n",
      "Epoch 6/55\n",
      "39/39 [==============================] - 4s 101ms/step - loss: 0.0192 - mae: 0.1579 - val_loss: 0.0174 - val_mae: 0.1504\n",
      "Epoch 7/55\n",
      "39/39 [==============================] - 5s 125ms/step - loss: 0.0185 - mae: 0.1550 - val_loss: 0.0173 - val_mae: 0.1500\n",
      "Epoch 8/55\n",
      "39/39 [==============================] - 4s 105ms/step - loss: 0.0180 - mae: 0.1520 - val_loss: 0.0172 - val_mae: 0.1494\n",
      "Epoch 9/55\n",
      "39/39 [==============================] - 4s 101ms/step - loss: 0.0179 - mae: 0.1515 - val_loss: 0.0169 - val_mae: 0.1482\n",
      "Epoch 10/55\n",
      "39/39 [==============================] - 5s 134ms/step - loss: 0.0180 - mae: 0.1515 - val_loss: 0.0168 - val_mae: 0.1475\n",
      "Epoch 11/55\n",
      "39/39 [==============================] - 4s 101ms/step - loss: 0.0179 - mae: 0.1514 - val_loss: 0.0168 - val_mae: 0.1476\n",
      "Epoch 12/55\n",
      "39/39 [==============================] - 5s 125ms/step - loss: 0.0178 - mae: 0.1508 - val_loss: 0.0183 - val_mae: 0.1553\n",
      "Epoch 13/55\n",
      "39/39 [==============================] - 5s 136ms/step - loss: 0.0180 - mae: 0.1514 - val_loss: 0.0165 - val_mae: 0.1462\n",
      "Epoch 14/55\n",
      "39/39 [==============================] - 5s 133ms/step - loss: 0.0175 - mae: 0.1487 - val_loss: 0.0165 - val_mae: 0.1457\n",
      "Epoch 15/55\n",
      "39/39 [==============================] - 4s 100ms/step - loss: 0.0176 - mae: 0.1494 - val_loss: 0.0167 - val_mae: 0.1471\n",
      "Epoch 16/55\n",
      "39/39 [==============================] - 6s 156ms/step - loss: 0.0177 - mae: 0.1504 - val_loss: 0.0167 - val_mae: 0.1479\n",
      "Epoch 17/55\n",
      "39/39 [==============================] - 4s 105ms/step - loss: 0.0175 - mae: 0.1489 - val_loss: 0.0163 - val_mae: 0.1449\n",
      "Epoch 18/55\n",
      "39/39 [==============================] - 4s 100ms/step - loss: 0.0172 - mae: 0.1485 - val_loss: 0.0170 - val_mae: 0.1468\n",
      "Epoch 19/55\n",
      "39/39 [==============================] - 6s 153ms/step - loss: 0.0170 - mae: 0.1463 - val_loss: 0.0161 - val_mae: 0.1447\n",
      "Epoch 20/55\n",
      "39/39 [==============================] - 6s 139ms/step - loss: 0.0169 - mae: 0.1460 - val_loss: 0.0165 - val_mae: 0.1451\n",
      "Epoch 21/55\n",
      "39/39 [==============================] - 5s 131ms/step - loss: 0.0172 - mae: 0.1484 - val_loss: 0.0171 - val_mae: 0.1502\n",
      "Epoch 22/55\n",
      "39/39 [==============================] - 5s 134ms/step - loss: 0.0171 - mae: 0.1470 - val_loss: 0.0158 - val_mae: 0.1422\n",
      "Epoch 23/55\n",
      "39/39 [==============================] - 5s 136ms/step - loss: 0.0164 - mae: 0.1437 - val_loss: 0.0157 - val_mae: 0.1414\n",
      "Epoch 24/55\n",
      "39/39 [==============================] - 4s 104ms/step - loss: 0.0169 - mae: 0.1457 - val_loss: 0.0161 - val_mae: 0.1443\n",
      "Epoch 25/55\n",
      "39/39 [==============================] - 4s 113ms/step - loss: 0.0164 - mae: 0.1438 - val_loss: 0.0157 - val_mae: 0.1418\n",
      "Epoch 26/55\n",
      "39/39 [==============================] - 6s 149ms/step - loss: 0.0163 - mae: 0.1435 - val_loss: 0.0164 - val_mae: 0.1460\n",
      "Epoch 27/55\n",
      "39/39 [==============================] - 5s 135ms/step - loss: 0.0163 - mae: 0.1438 - val_loss: 0.0159 - val_mae: 0.1414\n",
      "Epoch 28/55\n",
      "39/39 [==============================] - 5s 135ms/step - loss: 0.0161 - mae: 0.1432 - val_loss: 0.0159 - val_mae: 0.1413\n",
      "Epoch 29/55\n",
      "39/39 [==============================] - 5s 133ms/step - loss: 0.0160 - mae: 0.1423 - val_loss: 0.0155 - val_mae: 0.1401\n",
      "Epoch 30/55\n",
      "39/39 [==============================] - 6s 164ms/step - loss: 0.0165 - mae: 0.1447 - val_loss: 0.0155 - val_mae: 0.1405\n",
      "Epoch 31/55\n",
      "39/39 [==============================] - 5s 134ms/step - loss: 0.0158 - mae: 0.1412 - val_loss: 0.0155 - val_mae: 0.1401\n",
      "Epoch 32/55\n",
      "39/39 [==============================] - 5s 133ms/step - loss: 0.0157 - mae: 0.1404 - val_loss: 0.0161 - val_mae: 0.1424\n",
      "Epoch 33/55\n",
      "39/39 [==============================] - 5s 134ms/step - loss: 0.0160 - mae: 0.1425 - val_loss: 0.0157 - val_mae: 0.1410\n",
      "Epoch 34/55\n",
      "39/39 [==============================] - 6s 149ms/step - loss: 0.0157 - mae: 0.1404 - val_loss: 0.0161 - val_mae: 0.1441\n",
      "Epoch 35/55\n",
      "39/39 [==============================] - 5s 113ms/step - loss: 0.0159 - mae: 0.1421 - val_loss: 0.0156 - val_mae: 0.1414\n",
      "Epoch 36/55\n",
      "39/39 [==============================] - 5s 133ms/step - loss: 0.0155 - mae: 0.1398 - val_loss: 0.0154 - val_mae: 0.1400\n",
      "Epoch 37/55\n",
      "39/39 [==============================] - 5s 136ms/step - loss: 0.0156 - mae: 0.1399 - val_loss: 0.0154 - val_mae: 0.1403\n",
      "Epoch 38/55\n",
      "39/39 [==============================] - 6s 165ms/step - loss: 0.0155 - mae: 0.1394 - val_loss: 0.0156 - val_mae: 0.1399\n",
      "Epoch 39/55\n",
      "39/39 [==============================] - 5s 135ms/step - loss: 0.0156 - mae: 0.1397 - val_loss: 0.0156 - val_mae: 0.1409\n",
      "Epoch 40/55\n",
      "39/39 [==============================] - 5s 134ms/step - loss: 0.0158 - mae: 0.1410 - val_loss: 0.0153 - val_mae: 0.1394\n",
      "Epoch 41/55\n",
      "39/39 [==============================] - 5s 132ms/step - loss: 0.0156 - mae: 0.1405 - val_loss: 0.0153 - val_mae: 0.1393\n",
      "Epoch 42/55\n",
      "39/39 [==============================] - 6s 150ms/step - loss: 0.0154 - mae: 0.1388 - val_loss: 0.0154 - val_mae: 0.1393\n",
      "Epoch 43/55\n",
      "39/39 [==============================] - 6s 145ms/step - loss: 0.0155 - mae: 0.1400 - val_loss: 0.0157 - val_mae: 0.1413\n",
      "Epoch 44/55\n",
      "39/39 [==============================] - 5s 135ms/step - loss: 0.0157 - mae: 0.1405 - val_loss: 0.0154 - val_mae: 0.1396\n",
      "Epoch 45/55\n",
      "39/39 [==============================] - 5s 135ms/step - loss: 0.0156 - mae: 0.1400 - val_loss: 0.0153 - val_mae: 0.1400\n",
      "Epoch 46/55\n",
      "39/39 [==============================] - 7s 172ms/step - loss: 0.0152 - mae: 0.1383 - val_loss: 0.0153 - val_mae: 0.1398\n",
      "Epoch 47/55\n",
      "39/39 [==============================] - 5s 139ms/step - loss: 0.0154 - mae: 0.1397 - val_loss: 0.0159 - val_mae: 0.1432\n",
      "Epoch 48/55\n",
      "39/39 [==============================] - 6s 165ms/step - loss: 0.0155 - mae: 0.1402 - val_loss: 0.0157 - val_mae: 0.1421\n",
      "Epoch 49/55\n",
      "39/39 [==============================] - 5s 135ms/step - loss: 0.0155 - mae: 0.1395 - val_loss: 0.0152 - val_mae: 0.1397\n",
      "Epoch 50/55\n",
      "39/39 [==============================] - 5s 134ms/step - loss: 0.0150 - mae: 0.1377 - val_loss: 0.0169 - val_mae: 0.1464\n",
      "Epoch 51/55\n",
      "39/39 [==============================] - 7s 164ms/step - loss: 0.0152 - mae: 0.1381 - val_loss: 0.0153 - val_mae: 0.1396\n",
      "Epoch 52/55\n",
      "39/39 [==============================] - 6s 154ms/step - loss: 0.0152 - mae: 0.1390 - val_loss: 0.0152 - val_mae: 0.1390\n",
      "Epoch 53/55\n",
      "39/39 [==============================] - 4s 103ms/step - loss: 0.0150 - mae: 0.1372 - val_loss: 0.0152 - val_mae: 0.1397\n",
      "Epoch 54/55\n",
      "39/39 [==============================] - 5s 134ms/step - loss: 0.0151 - mae: 0.1383 - val_loss: 0.0159 - val_mae: 0.1433\n",
      "Epoch 55/55\n",
      "39/39 [==============================] - 6s 158ms/step - loss: 0.0156 - mae: 0.1407 - val_loss: 0.0153 - val_mae: 0.1395\n"
     ]
    }
   ],
   "source": [
    "history = lstm_model.train(BATCH_SIZE, EPOCHS)"
   ]
  },
  {
   "cell_type": "code",
   "execution_count": 30,
   "metadata": {},
   "outputs": [
    {
     "name": "stdout",
     "output_type": "stream",
     "text": [
      " 1/15 [=>............................] - ETA: 1s - loss: 0.0154 - mae: 0.1422"
     ]
    },
    {
     "name": "stdout",
     "output_type": "stream",
     "text": [
      "15/15 [==============================] - 0s 26ms/step - loss: 0.0138 - mae: 0.1334\n"
     ]
    }
   ],
   "source": [
    "eval =  lstm_model.evaluate()"
   ]
  },
  {
   "cell_type": "code",
   "execution_count": 31,
   "metadata": {},
   "outputs": [
    {
     "name": "stdout",
     "output_type": "stream",
     "text": [
      "(460, 80, 1)\n"
     ]
    },
    {
     "name": "stdout",
     "output_type": "stream",
     "text": [
      "15/15 [==============================] - 1s 16ms/step\n"
     ]
    }
   ],
   "source": [
    "predictions = Inferer.infer(lstm_model._model, X_test)"
   ]
  },
  {
   "cell_type": "code",
   "execution_count": 32,
   "metadata": {},
   "outputs": [],
   "source": [
    "time = np.arange(0, len(lstm_model.y_test), step=1)"
   ]
  },
  {
   "cell_type": "code",
   "execution_count": 33,
   "metadata": {},
   "outputs": [
    {
     "data": {
      "text/plain": [
       "(460, 80, 1)"
      ]
     },
     "execution_count": 33,
     "metadata": {},
     "output_type": "execute_result"
    }
   ],
   "source": [
    "lstm_model.X_test.shape"
   ]
  },
  {
   "cell_type": "code",
   "execution_count": 34,
   "metadata": {},
   "outputs": [
    {
     "data": {
      "image/png": "[encoded data removed]",
      "text/plain": [
       "<Figure size 432x288 with 1 Axes>"
      ]
     },
     "metadata": {
      "needs_background": "light"
     },
     "output_type": "display_data"
    }
   ],
   "source": [
    "plt.plot(time, y_test, label=\"Actual\")\n",
    "plt.plot(time, predictions, label=\"pred\")\n",
    "plt.legend()\n",
    "plt.show();\n"
   ]
  },
  {
   "cell_type": "code",
   "execution_count": 35,
   "metadata": {},
   "outputs": [
    {
     "data": {
      "text/plain": [
       "2.001159944741622"
      ]
     },
     "execution_count": 35,
     "metadata": {},
     "output_type": "execute_result"
    }
   ],
   "source": [
    "mean_absolute_error(predictions, y_test)"
   ]
  },
  {
   "cell_type": "markdown",
   "metadata": {},
   "source": [
    "## Bi-LSTM Model"
   ]
  },
  {
   "cell_type": "code",
   "execution_count": 36,
   "metadata": {},
   "outputs": [],
   "source": [
    "from cqiforecasting.models.bi_lstm_model import BiLSTMModel"
   ]
  },
  {
   "cell_type": "code",
   "execution_count": 37,
   "metadata": {},
   "outputs": [],
   "source": [
    "bi_lstm_model = BiLSTMModel(SEQ_LENGTH, CFGLog)"
   ]
  },
  {
   "cell_type": "code",
   "execution_count": 38,
   "metadata": {},
   "outputs": [],
   "source": [
    "bi_lstm_model.load_data()"
   ]
  },
  {
   "cell_type": "code",
   "execution_count": 39,
   "metadata": {},
   "outputs": [],
   "source": [
    "bi_lstm_model.build()"
   ]
  },
  {
   "cell_type": "code",
   "execution_count": 40,
   "metadata": {},
   "outputs": [
    {
     "name": "stdout",
     "output_type": "stream",
     "text": [
      "Epoch 1/55\n",
      "39/39 [==============================] - 12s 184ms/step - loss: 0.2237 - val_loss: 0.0462\n",
      "Epoch 2/55\n",
      "39/39 [==============================] - 5s 133ms/step - loss: 0.0403 - val_loss: 0.0352\n",
      "Epoch 3/55\n",
      "39/39 [==============================] - 5s 140ms/step - loss: 0.0362 - val_loss: 0.0336\n",
      "Epoch 4/55\n",
      "39/39 [==============================] - 6s 158ms/step - loss: 0.0349 - val_loss: 0.0322\n",
      "Epoch 5/55\n",
      "39/39 [==============================] - 7s 176ms/step - loss: 0.0348 - val_loss: 0.0320\n",
      "Epoch 6/55\n",
      "39/39 [==============================] - 5s 138ms/step - loss: 0.0347 - val_loss: 0.0324\n",
      "Epoch 7/55\n",
      "39/39 [==============================] - 7s 170ms/step - loss: 0.0341 - val_loss: 0.0325\n",
      "Epoch 8/55\n",
      "39/39 [==============================] - 7s 173ms/step - loss: 0.0341 - val_loss: 0.0314\n",
      "Epoch 9/55\n",
      "39/39 [==============================] - 5s 127ms/step - loss: 0.0340 - val_loss: 0.0313\n",
      "Epoch 10/55\n",
      "39/39 [==============================] - 5s 128ms/step - loss: 0.0334 - val_loss: 0.0332\n",
      "Epoch 11/55\n",
      "39/39 [==============================] - 4s 98ms/step - loss: 0.0338 - val_loss: 0.0312\n",
      "Epoch 12/55\n",
      "39/39 [==============================] - 7s 187ms/step - loss: 0.0332 - val_loss: 0.0315\n",
      "Epoch 13/55\n",
      "39/39 [==============================] - 6s 160ms/step - loss: 0.0345 - val_loss: 0.0313\n",
      "Epoch 14/55\n",
      "39/39 [==============================] - 6s 146ms/step - loss: 0.0334 - val_loss: 0.0309\n",
      "Epoch 15/55\n",
      "39/39 [==============================] - 8s 209ms/step - loss: 0.0331 - val_loss: 0.0309\n",
      "Epoch 16/55\n",
      "39/39 [==============================] - 8s 195ms/step - loss: 0.0338 - val_loss: 0.0308\n",
      "Epoch 17/55\n",
      "39/39 [==============================] - 8s 218ms/step - loss: 0.0327 - val_loss: 0.0322\n",
      "Epoch 18/55\n",
      "39/39 [==============================] - 8s 210ms/step - loss: 0.0335 - val_loss: 0.0336\n",
      "Epoch 19/55\n",
      "39/39 [==============================] - 6s 151ms/step - loss: 0.0343 - val_loss: 0.0327\n",
      "Epoch 20/55\n",
      "39/39 [==============================] - 8s 201ms/step - loss: 0.0335 - val_loss: 0.0321\n",
      "Epoch 21/55\n",
      "39/39 [==============================] - 8s 208ms/step - loss: 0.0329 - val_loss: 0.0308\n",
      "Epoch 22/55\n",
      "39/39 [==============================] - 6s 148ms/step - loss: 0.0325 - val_loss: 0.0304\n",
      "Epoch 23/55\n",
      "39/39 [==============================] - 8s 198ms/step - loss: 0.0325 - val_loss: 0.0303\n",
      "Epoch 24/55\n",
      "39/39 [==============================] - 7s 185ms/step - loss: 0.0328 - val_loss: 0.0302\n",
      "Epoch 25/55\n",
      "39/39 [==============================] - 8s 211ms/step - loss: 0.0325 - val_loss: 0.0325\n",
      "Epoch 26/55\n",
      "39/39 [==============================] - 8s 210ms/step - loss: 0.0331 - val_loss: 0.0302\n",
      "Epoch 27/55\n",
      "39/39 [==============================] - 10s 259ms/step - loss: 0.0325 - val_loss: 0.0334\n",
      "Epoch 28/55\n",
      "39/39 [==============================] - 6s 156ms/step - loss: 0.0334 - val_loss: 0.0315\n",
      "Epoch 29/55\n",
      "39/39 [==============================] - 9s 244ms/step - loss: 0.0326 - val_loss: 0.0301\n",
      "Epoch 30/55\n",
      "39/39 [==============================] - 8s 188ms/step - loss: 0.0324 - val_loss: 0.0305\n",
      "Epoch 31/55\n",
      "39/39 [==============================] - 9s 247ms/step - loss: 0.0327 - val_loss: 0.0303\n",
      "Epoch 32/55\n",
      "39/39 [==============================] - 8s 211ms/step - loss: 0.0319 - val_loss: 0.0305\n",
      "Epoch 33/55\n",
      "39/39 [==============================] - 8s 195ms/step - loss: 0.0325 - val_loss: 0.0336\n",
      "Epoch 34/55\n",
      "39/39 [==============================] - 7s 186ms/step - loss: 0.0327 - val_loss: 0.0298\n",
      "Epoch 35/55\n",
      "39/39 [==============================] - 8s 208ms/step - loss: 0.0318 - val_loss: 0.0297\n",
      "Epoch 36/55\n",
      "39/39 [==============================] - 6s 136ms/step - loss: 0.0318 - val_loss: 0.0297\n",
      "Epoch 37/55\n",
      "39/39 [==============================] - 5s 134ms/step - loss: 0.0314 - val_loss: 0.0296\n",
      "Epoch 38/55\n",
      "39/39 [==============================] - 7s 189ms/step - loss: 0.0322 - val_loss: 0.0295\n",
      "Epoch 39/55\n",
      "39/39 [==============================] - 8s 206ms/step - loss: 0.0314 - val_loss: 0.0297\n",
      "Epoch 40/55\n",
      "39/39 [==============================] - 7s 177ms/step - loss: 0.0320 - val_loss: 0.0294\n",
      "Epoch 41/55\n",
      "39/39 [==============================] - 9s 217ms/step - loss: 0.0317 - val_loss: 0.0295\n",
      "Epoch 42/55\n",
      "39/39 [==============================] - 6s 159ms/step - loss: 0.0317 - val_loss: 0.0295\n",
      "Epoch 43/55\n",
      "39/39 [==============================] - 8s 206ms/step - loss: 0.0316 - val_loss: 0.0300\n",
      "Epoch 44/55\n",
      "39/39 [==============================] - 6s 161ms/step - loss: 0.0316 - val_loss: 0.0295\n",
      "Epoch 45/55\n",
      "39/39 [==============================] - 9s 235ms/step - loss: 0.0314 - val_loss: 0.0293\n",
      "Epoch 46/55\n",
      "39/39 [==============================] - 6s 147ms/step - loss: 0.0310 - val_loss: 0.0308\n",
      "Epoch 47/55\n",
      "39/39 [==============================] - 5s 132ms/step - loss: 0.0315 - val_loss: 0.0310\n",
      "Epoch 48/55\n",
      "39/39 [==============================] - 6s 158ms/step - loss: 0.0310 - val_loss: 0.0311\n",
      "Epoch 49/55\n",
      "39/39 [==============================] - 6s 161ms/step - loss: 0.0309 - val_loss: 0.0292\n",
      "Epoch 50/55\n",
      "39/39 [==============================] - 5s 134ms/step - loss: 0.0307 - val_loss: 0.0291\n",
      "Epoch 51/55\n",
      "39/39 [==============================] - 5s 132ms/step - loss: 0.0306 - val_loss: 0.0297\n",
      "Epoch 52/55\n",
      "39/39 [==============================] - 5s 133ms/step - loss: 0.0309 - val_loss: 0.0294\n",
      "Epoch 53/55\n",
      "39/39 [==============================] - 5s 132ms/step - loss: 0.0303 - val_loss: 0.0296\n",
      "Epoch 54/55\n",
      "39/39 [==============================] - 6s 152ms/step - loss: 0.0302 - val_loss: 0.0305\n",
      "Epoch 55/55\n",
      "39/39 [==============================] - 6s 140ms/step - loss: 0.0310 - val_loss: 0.0292\n"
     ]
    },
    {
     "data": {
      "text/plain": [
       "<keras.callbacks.History at 0x7efedd26ff70>"
      ]
     },
     "execution_count": 40,
     "metadata": {},
     "output_type": "execute_result"
    }
   ],
   "source": [
    "bi_lstm_model.train(BATCH_SIZE, EPOCHS)"
   ]
  },
  {
   "cell_type": "code",
   "execution_count": 41,
   "metadata": {},
   "outputs": [
    {
     "name": "stdout",
     "output_type": "stream",
     "text": [
      "15/15 [==============================] - 0s 27ms/step - loss: 0.0288\n"
     ]
    }
   ],
   "source": [
    "bi_lstm_eval = bi_lstm_model.evaluate()"
   ]
  },
  {
   "cell_type": "code",
   "execution_count": 42,
   "metadata": {},
   "outputs": [
    {
     "name": "stdout",
     "output_type": "stream",
     "text": [
      "(460, 80, 1)\n"
     ]
    },
    {
     "name": "stdout",
     "output_type": "stream",
     "text": [
      "15/15 [==============================] - 2s 98ms/step\n"
     ]
    }
   ],
   "source": [
    "predictions = Inferer.infer(bi_lstm_model._model, X_test)"
   ]
  },
  {
   "cell_type": "code",
   "execution_count": 43,
   "metadata": {},
   "outputs": [],
   "source": [
    "time = np.arange(0, len(y_test), step=1)"
   ]
  },
  {
   "cell_type": "code",
   "execution_count": 44,
   "metadata": {},
   "outputs": [
    {
     "data": {
      "image/png": "[encoded data removed]",
      "text/plain": [
       "<Figure size 432x288 with 1 Axes>"
      ]
     },
     "metadata": {
      "needs_background": "light"
     },
     "output_type": "display_data"
    }
   ],
   "source": [
    "plt.plot(time, y_test, label=\"Actual\")\n",
    "plt.plot(time, predictions, label=\"pred\")\n",
    "plt.legend()\n",
    "plt.show();\n"
   ]
  },
  {
   "cell_type": "code",
   "execution_count": 46,
   "metadata": {},
   "outputs": [
    {
     "data": {
      "text/plain": [
       "2.0458373878313147"
      ]
     },
     "execution_count": 46,
     "metadata": {},
     "output_type": "execute_result"
    }
   ],
   "source": [
    "mean_absolute_error(predictions, y_test)"
   ]
  },
  {
   "cell_type": "markdown",
   "metadata": {},
   "source": [
    "## Conv Bi-LSTM Model"
   ]
  },
  {
   "cell_type": "code",
   "execution_count": 7,
   "metadata": {},
   "outputs": [
    {
     "name": "stderr",
     "output_type": "stream",
     "text": [
      "2023-09-28 17:00:01.607759: W tensorflow/stream_executor/platform/default/dso_loader.cc:64] Could not load dynamic library 'libcudart.so.11.0'; dlerror: libcudart.so.11.0: cannot open shared object file: No such file or directory\n",
      "2023-09-28 17:00:01.607782: I tensorflow/stream_executor/cuda/cudart_stub.cc:29] Ignore above cudart dlerror if you do not have a GPU set up on your machine.\n"
     ]
    }
   ],
   "source": [
    "from cqiforecasting.models.conv_bi_lstm_model import ConvBiLSTMModel"
   ]
  },
  {
   "cell_type": "code",
   "execution_count": 8,
   "metadata": {},
   "outputs": [],
   "source": [
    "conv_bi_lstm_model = ConvBiLSTMModel(SEQ_LENGTH, CFGLog)"
   ]
  },
  {
   "cell_type": "code",
   "execution_count": 9,
   "metadata": {},
   "outputs": [],
   "source": [
    "conv_bi_lstm_model.load_data()"
   ]
  },
  {
   "cell_type": "code",
   "execution_count": 10,
   "metadata": {},
   "outputs": [
    {
     "name": "stderr",
     "output_type": "stream",
     "text": [
      "2023-09-28 17:00:24.599081: E tensorflow/stream_executor/cuda/cuda_driver.cc:271] failed call to cuInit: CUDA_ERROR_NO_DEVICE: no CUDA-capable device is detected\n",
      "2023-09-28 17:00:24.599121: I tensorflow/stream_executor/cuda/cuda_diagnostics.cc:156] kernel driver does not appear to be running on this host (ozi-Lenovo-Y50-70): /proc/driver/nvidia/version does not exist\n",
      "2023-09-28 17:00:24.599442: I tensorflow/core/platform/cpu_feature_guard.cc:193] This TensorFlow binary is optimized with oneAPI Deep Neural Network Library (oneDNN) to use the following CPU instructions in performance-critical operations:  AVX2 FMA\n",
      "To enable them in other operations, rebuild TensorFlow with the appropriate compiler flags.\n"
     ]
    }
   ],
   "source": [
    "conv_bi_lstm_model.build()"
   ]
  },
  {
   "cell_type": "code",
   "execution_count": 11,
   "metadata": {},
   "outputs": [
    {
     "name": "stdout",
     "output_type": "stream",
     "text": [
      "Epoch 1/55\n",
      "39/39 [==============================] - 11s 152ms/step - loss: 0.1002 - mae: 0.3705 - val_loss: 0.0306 - val_mae: 0.2040\n",
      "Epoch 2/55\n",
      "39/39 [==============================] - 7s 183ms/step - loss: 0.0214 - mae: 0.1688 - val_loss: 0.0171 - val_mae: 0.1495\n",
      "Epoch 3/55\n",
      "39/39 [==============================] - 4s 116ms/step - loss: 0.0180 - mae: 0.1521 - val_loss: 0.0166 - val_mae: 0.1453\n",
      "Epoch 4/55\n",
      "39/39 [==============================] - 6s 154ms/step - loss: 0.0178 - mae: 0.1504 - val_loss: 0.0166 - val_mae: 0.1461\n",
      "Epoch 5/55\n",
      "39/39 [==============================] - 6s 164ms/step - loss: 0.0175 - mae: 0.1492 - val_loss: 0.0162 - val_mae: 0.1438\n",
      "Epoch 6/55\n",
      "39/39 [==============================] - 9s 234ms/step - loss: 0.0172 - mae: 0.1477 - val_loss: 0.0160 - val_mae: 0.1439\n",
      "Epoch 7/55\n",
      "39/39 [==============================] - 6s 161ms/step - loss: 0.0168 - mae: 0.1462 - val_loss: 0.0157 - val_mae: 0.1412\n",
      "Epoch 8/55\n",
      "39/39 [==============================] - 8s 200ms/step - loss: 0.0166 - mae: 0.1451 - val_loss: 0.0155 - val_mae: 0.1397\n",
      "Epoch 9/55\n",
      "39/39 [==============================] - 7s 181ms/step - loss: 0.0163 - mae: 0.1441 - val_loss: 0.0153 - val_mae: 0.1384\n",
      "Epoch 10/55\n",
      "39/39 [==============================] - 7s 165ms/step - loss: 0.0163 - mae: 0.1434 - val_loss: 0.0154 - val_mae: 0.1393\n",
      "Epoch 11/55\n",
      "39/39 [==============================] - 8s 220ms/step - loss: 0.0161 - mae: 0.1425 - val_loss: 0.0159 - val_mae: 0.1413\n",
      "Epoch 12/55\n",
      "39/39 [==============================] - 8s 195ms/step - loss: 0.0162 - mae: 0.1434 - val_loss: 0.0149 - val_mae: 0.1365\n",
      "Epoch 13/55\n",
      "39/39 [==============================] - 5s 121ms/step - loss: 0.0159 - mae: 0.1413 - val_loss: 0.0149 - val_mae: 0.1369\n",
      "Epoch 14/55\n",
      "39/39 [==============================] - 7s 175ms/step - loss: 0.0160 - mae: 0.1418 - val_loss: 0.0152 - val_mae: 0.1387\n",
      "Epoch 15/55\n",
      "39/39 [==============================] - 6s 163ms/step - loss: 0.0155 - mae: 0.1397 - val_loss: 0.0149 - val_mae: 0.1369\n",
      "Epoch 16/55\n",
      "39/39 [==============================] - 5s 132ms/step - loss: 0.0158 - mae: 0.1415 - val_loss: 0.0149 - val_mae: 0.1371\n",
      "Epoch 17/55\n",
      "39/39 [==============================] - 8s 202ms/step - loss: 0.0154 - mae: 0.1391 - val_loss: 0.0147 - val_mae: 0.1358\n",
      "Epoch 18/55\n",
      "39/39 [==============================] - 6s 158ms/step - loss: 0.0156 - mae: 0.1406 - val_loss: 0.0153 - val_mae: 0.1382\n",
      "Epoch 19/55\n",
      "39/39 [==============================] - 7s 179ms/step - loss: 0.0154 - mae: 0.1394 - val_loss: 0.0154 - val_mae: 0.1399\n",
      "Epoch 20/55\n",
      "39/39 [==============================] - 6s 152ms/step - loss: 0.0151 - mae: 0.1376 - val_loss: 0.0151 - val_mae: 0.1377\n",
      "Epoch 21/55\n",
      "39/39 [==============================] - 6s 154ms/step - loss: 0.0153 - mae: 0.1388 - val_loss: 0.0148 - val_mae: 0.1367\n",
      "Epoch 22/55\n",
      "39/39 [==============================] - 7s 183ms/step - loss: 0.0150 - mae: 0.1376 - val_loss: 0.0148 - val_mae: 0.1368\n",
      "Epoch 23/55\n",
      "39/39 [==============================] - 7s 186ms/step - loss: 0.0151 - mae: 0.1376 - val_loss: 0.0148 - val_mae: 0.1359\n",
      "Epoch 24/55\n",
      "39/39 [==============================] - 8s 207ms/step - loss: 0.0149 - mae: 0.1370 - val_loss: 0.0146 - val_mae: 0.1351\n",
      "Epoch 25/55\n",
      "39/39 [==============================] - 6s 149ms/step - loss: 0.0148 - mae: 0.1360 - val_loss: 0.0148 - val_mae: 0.1365\n",
      "Epoch 26/55\n",
      "39/39 [==============================] - 8s 212ms/step - loss: 0.0147 - mae: 0.1354 - val_loss: 0.0145 - val_mae: 0.1348\n",
      "Epoch 27/55\n",
      "39/39 [==============================] - 6s 159ms/step - loss: 0.0146 - mae: 0.1351 - val_loss: 0.0148 - val_mae: 0.1370\n",
      "Epoch 28/55\n",
      "39/39 [==============================] - 8s 213ms/step - loss: 0.0147 - mae: 0.1360 - val_loss: 0.0144 - val_mae: 0.1342\n",
      "Epoch 29/55\n",
      "39/39 [==============================] - 6s 152ms/step - loss: 0.0144 - mae: 0.1345 - val_loss: 0.0147 - val_mae: 0.1362\n",
      "Epoch 30/55\n",
      "39/39 [==============================] - 7s 192ms/step - loss: 0.0144 - mae: 0.1349 - val_loss: 0.0142 - val_mae: 0.1338\n",
      "Epoch 31/55\n",
      "39/39 [==============================] - 6s 160ms/step - loss: 0.0147 - mae: 0.1358 - val_loss: 0.0145 - val_mae: 0.1350\n",
      "Epoch 32/55\n",
      "39/39 [==============================] - 7s 173ms/step - loss: 0.0148 - mae: 0.1367 - val_loss: 0.0143 - val_mae: 0.1336\n",
      "Epoch 33/55\n",
      "39/39 [==============================] - 7s 183ms/step - loss: 0.0143 - mae: 0.1341 - val_loss: 0.0147 - val_mae: 0.1362\n",
      "Epoch 34/55\n",
      "39/39 [==============================] - 6s 147ms/step - loss: 0.0142 - mae: 0.1333 - val_loss: 0.0141 - val_mae: 0.1323\n",
      "Epoch 35/55\n",
      "39/39 [==============================] - 8s 206ms/step - loss: 0.0143 - mae: 0.1341 - val_loss: 0.0142 - val_mae: 0.1331\n",
      "Epoch 36/55\n",
      "39/39 [==============================] - 7s 182ms/step - loss: 0.0141 - mae: 0.1334 - val_loss: 0.0143 - val_mae: 0.1344\n",
      "Epoch 37/55\n",
      "39/39 [==============================] - 7s 179ms/step - loss: 0.0141 - mae: 0.1330 - val_loss: 0.0139 - val_mae: 0.1313\n",
      "Epoch 38/55\n",
      "39/39 [==============================] - 6s 145ms/step - loss: 0.0141 - mae: 0.1326 - val_loss: 0.0140 - val_mae: 0.1330\n",
      "Epoch 39/55\n",
      "39/39 [==============================] - 6s 166ms/step - loss: 0.0141 - mae: 0.1332 - val_loss: 0.0140 - val_mae: 0.1318\n",
      "Epoch 40/55\n",
      "39/39 [==============================] - 7s 183ms/step - loss: 0.0139 - mae: 0.1321 - val_loss: 0.0142 - val_mae: 0.1333\n",
      "Epoch 41/55\n",
      "39/39 [==============================] - 6s 147ms/step - loss: 0.0140 - mae: 0.1324 - val_loss: 0.0143 - val_mae: 0.1353\n",
      "Epoch 42/55\n",
      "39/39 [==============================] - 7s 173ms/step - loss: 0.0141 - mae: 0.1336 - val_loss: 0.0139 - val_mae: 0.1322\n",
      "Epoch 43/55\n",
      "39/39 [==============================] - 5s 120ms/step - loss: 0.0137 - mae: 0.1316 - val_loss: 0.0140 - val_mae: 0.1325\n",
      "Epoch 44/55\n",
      "39/39 [==============================] - 8s 201ms/step - loss: 0.0138 - mae: 0.1316 - val_loss: 0.0138 - val_mae: 0.1311\n",
      "Epoch 45/55\n",
      "39/39 [==============================] - 6s 153ms/step - loss: 0.0138 - mae: 0.1314 - val_loss: 0.0146 - val_mae: 0.1360\n",
      "Epoch 46/55\n",
      "39/39 [==============================] - 7s 175ms/step - loss: 0.0137 - mae: 0.1317 - val_loss: 0.0135 - val_mae: 0.1297\n",
      "Epoch 47/55\n",
      "39/39 [==============================] - 6s 146ms/step - loss: 0.0137 - mae: 0.1308 - val_loss: 0.0135 - val_mae: 0.1308\n",
      "Epoch 48/55\n",
      "39/39 [==============================] - 7s 181ms/step - loss: 0.0135 - mae: 0.1301 - val_loss: 0.0135 - val_mae: 0.1299\n",
      "Epoch 49/55\n",
      "39/39 [==============================] - 7s 167ms/step - loss: 0.0134 - mae: 0.1301 - val_loss: 0.0143 - val_mae: 0.1336\n",
      "Epoch 50/55\n",
      "39/39 [==============================] - 6s 146ms/step - loss: 0.0133 - mae: 0.1292 - val_loss: 0.0138 - val_mae: 0.1310\n",
      "Epoch 51/55\n",
      "39/39 [==============================] - 8s 196ms/step - loss: 0.0133 - mae: 0.1289 - val_loss: 0.0132 - val_mae: 0.1291\n",
      "Epoch 52/55\n",
      "39/39 [==============================] - 5s 118ms/step - loss: 0.0133 - mae: 0.1294 - val_loss: 0.0141 - val_mae: 0.1323\n",
      "Epoch 53/55\n",
      "39/39 [==============================] - 7s 181ms/step - loss: 0.0132 - mae: 0.1279 - val_loss: 0.0144 - val_mae: 0.1340\n",
      "Epoch 54/55\n",
      "39/39 [==============================] - 5s 135ms/step - loss: 0.0131 - mae: 0.1283 - val_loss: 0.0142 - val_mae: 0.1320\n",
      "Epoch 55/55\n",
      "39/39 [==============================] - 6s 163ms/step - loss: 0.0131 - mae: 0.1280 - val_loss: 0.0134 - val_mae: 0.1294\n"
     ]
    },
    {
     "data": {
      "text/plain": [
       "<keras.callbacks.History at 0x7f67a8203340>"
      ]
     },
     "execution_count": 11,
     "metadata": {},
     "output_type": "execute_result"
    }
   ],
   "source": [
    "conv_bi_lstm_model.train(BATCH_SIZE, EPOCHS)"
   ]
  },
  {
   "cell_type": "code",
   "execution_count": 15,
   "metadata": {},
   "outputs": [
    {
     "name": "stdout",
     "output_type": "stream",
     "text": [
      "15/15 [==============================] - 0s 18ms/step - loss: 0.0122 - mae: 0.1251\n"
     ]
    }
   ],
   "source": [
    "conv_bi_lstm_eval = conv_bi_lstm_model.evaluate()"
   ]
  },
  {
   "cell_type": "code",
   "execution_count": 16,
   "metadata": {},
   "outputs": [
    {
     "name": "stdout",
     "output_type": "stream",
     "text": [
      "(460, 80, 1)\n",
      "15/15 [==============================] - 1s 18ms/step\n"
     ]
    }
   ],
   "source": [
    "predictions = Inferer.infer(conv_bi_lstm_model._model, X_test)"
   ]
  },
  {
   "cell_type": "code",
   "execution_count": 17,
   "metadata": {},
   "outputs": [],
   "source": [
    "time = np.arange(0, len(y_test), step=1)"
   ]
  },
  {
   "cell_type": "code",
   "execution_count": 18,
   "metadata": {},
   "outputs": [
    {
     "data": {
      "image/png": "[encoded data removed]",
      "text/plain": [
       "<Figure size 432x288 with 1 Axes>"
      ]
     },
     "metadata": {
      "needs_background": "light"
     },
     "output_type": "display_data"
    }
   ],
   "source": [
    "plt.plot(time, y_test, label=\"Actual\")\n",
    "plt.plot(time, predictions, label=\"pred\")\n",
    "plt.legend()\n",
    "plt.show();"
   ]
  },
  {
   "cell_type": "code",
   "execution_count": 19,
   "metadata": {},
   "outputs": [
    {
     "data": {
      "text/plain": [
       "1.8764680302661398"
      ]
     },
     "execution_count": 19,
     "metadata": {},
     "output_type": "execute_result"
    }
   ],
   "source": [
    "mean_absolute_error(predictions, y_test)"
   ]
  }
 ],
 "metadata": {
  "kernelspec": {
   "display_name": "base",
   "language": "python",
   "name": "python3"
  },
  "language_info": {
   "codemirror_mode": {
    "name": "ipython",
    "version": 3
   },
   "file_extension": ".py",
   "mimetype": "text/x-python",
   "name": "python",
   "nbconvert_exporter": "python",
   "pygments_lexer": "ipython3",
   "version": "3.9.12"
  },
  "orig_nbformat": 4
 },
 "nbformat": 4,
 "nbformat_minor": 2
}
