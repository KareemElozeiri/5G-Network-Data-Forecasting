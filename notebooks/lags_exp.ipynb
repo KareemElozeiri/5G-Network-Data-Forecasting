{
 "cells": [
  {
   "cell_type": "code",
   "execution_count": 1,
   "metadata": {},
   "outputs": [],
   "source": [
    "import sys\n",
    "sys.path.append(\"../\")"
   ]
  },
  {
   "cell_type": "code",
   "execution_count": 2,
   "metadata": {},
   "outputs": [],
   "source": [
    "import numpy as np\n",
    "import pandas as pd\n",
    "import matplotlib.pyplot as plt\n",
    "from cqiforecasting.configs.config import CFGLog\n",
    "from cqiforecasting.dataloader.nn_data_loader import NNDataLoader\n",
    "from cqiforecasting.utils.config import Config\n",
    "from cqiforecasting.executor.inferer import Inferer\n",
    "from sklearn.metrics import mean_absolute_error"
   ]
  },
  {
   "cell_type": "code",
   "execution_count": 3,
   "metadata": {},
   "outputs": [],
   "source": [
    "data_loader = NNDataLoader(Config.from_json(CFGLog).data)"
   ]
  },
  {
   "cell_type": "markdown",
   "metadata": {},
   "source": [
    "### LSTM Model"
   ]
  },
  {
   "cell_type": "code",
   "execution_count": 4,
   "metadata": {},
   "outputs": [
    {
     "name": "stderr",
     "output_type": "stream",
     "text": [
      "2023-10-22 18:28:46.074989: W tensorflow/stream_executor/platform/default/dso_loader.cc:64] Could not load dynamic library 'libcudart.so.11.0'; dlerror: libcudart.so.11.0: cannot open shared object file: No such file or directory\n",
      "2023-10-22 18:28:46.075029: I tensorflow/stream_executor/cuda/cudart_stub.cc:29] Ignore above cudart dlerror if you do not have a GPU set up on your machine.\n"
     ]
    }
   ],
   "source": [
    "from cqiforecasting.models.lstm_model import LSTMModel"
   ]
  },
  {
   "cell_type": "code",
   "execution_count": 5,
   "metadata": {},
   "outputs": [],
   "source": [
    "BATCH_SIZE = 64\n",
    "EPOCHS = 55"
   ]
  },
  {
   "cell_type": "code",
   "execution_count": 6,
   "metadata": {},
   "outputs": [],
   "source": [
    "lstm_abs_errors = []"
   ]
  },
  {
   "cell_type": "code",
   "execution_count": 7,
   "metadata": {},
   "outputs": [
    {
     "name": "stdout",
     "output_type": "stream",
     "text": [
      "=>Training with lag: 1\n"
     ]
    },
    {
     "name": "stderr",
     "output_type": "stream",
     "text": [
      "2023-10-22 18:28:47.632039: E tensorflow/stream_executor/cuda/cuda_driver.cc:271] failed call to cuInit: CUDA_ERROR_NO_DEVICE: no CUDA-capable device is detected\n",
      "2023-10-22 18:28:47.632093: I tensorflow/stream_executor/cuda/cuda_diagnostics.cc:156] kernel driver does not appear to be running on this host (ozi-Lenovo-Y50-70): /proc/driver/nvidia/version does not exist\n",
      "2023-10-22 18:28:47.632556: I tensorflow/core/platform/cpu_feature_guard.cc:193] This TensorFlow binary is optimized with oneAPI Deep Neural Network Library (oneDNN) to use the following CPU instructions in performance-critical operations:  AVX2 FMA\n",
      "To enable them in other operations, rebuild TensorFlow with the appropriate compiler flags.\n"
     ]
    },
    {
     "name": "stdout",
     "output_type": "stream",
     "text": [
      "(539, 1, 1)\n",
      "17/17 [==============================] - 0s 2ms/step\n",
      "=>Training with lag: 2\n",
      "(538, 2, 1)\n",
      "17/17 [==============================] - 0s 2ms/step\n",
      "=>Training with lag: 3\n",
      "(537, 3, 1)\n",
      "17/17 [==============================] - 0s 2ms/step\n",
      "=>Training with lag: 4\n",
      "(536, 4, 1)\n",
      "17/17 [==============================] - 0s 2ms/step\n",
      "=>Training with lag: 5\n",
      "(535, 5, 1)\n",
      "17/17 [==============================] - 0s 2ms/step\n",
      "=>Training with lag: 6\n",
      "(534, 6, 1)\n",
      "17/17 [==============================] - 0s 3ms/step\n",
      "=>Training with lag: 7\n",
      "(533, 7, 1)\n",
      "17/17 [==============================] - 0s 3ms/step\n",
      "=>Training with lag: 8\n",
      "(532, 8, 1)\n",
      "17/17 [==============================] - 0s 3ms/step\n",
      "=>Training with lag: 9\n",
      "(531, 9, 1)\n",
      "17/17 [==============================] - 0s 3ms/step\n",
      "=>Training with lag: 10\n",
      "(530, 10, 1)\n",
      "17/17 [==============================] - 0s 3ms/step\n",
      "=>Training with lag: 11\n",
      "(529, 11, 1)\n",
      "17/17 [==============================] - 1s 4ms/step\n",
      "=>Training with lag: 12\n",
      "(528, 12, 1)\n",
      "17/17 [==============================] - 0s 4ms/step\n",
      "=>Training with lag: 13\n",
      "(527, 13, 1)\n",
      "17/17 [==============================] - 0s 5ms/step\n",
      "=>Training with lag: 14\n",
      "(526, 14, 1)\n",
      "17/17 [==============================] - 0s 6ms/step\n",
      "=>Training with lag: 15\n",
      "(525, 15, 1)\n",
      "17/17 [==============================] - 0s 8ms/step\n",
      "=>Training with lag: 16\n",
      "(524, 16, 1)\n",
      "17/17 [==============================] - 0s 5ms/step\n",
      "=>Training with lag: 17\n",
      "(523, 17, 1)\n",
      "17/17 [==============================] - 1s 10ms/step\n",
      "=>Training with lag: 18\n",
      "(522, 18, 1)\n",
      "17/17 [==============================] - 0s 5ms/step\n",
      "=>Training with lag: 19\n",
      "(521, 19, 1)\n",
      "17/17 [==============================] - 0s 5ms/step\n",
      "=>Training with lag: 20\n",
      "(520, 20, 1)\n",
      "17/17 [==============================] - 1s 6ms/step\n",
      "=>Training with lag: 21\n",
      "(519, 21, 1)\n",
      "17/17 [==============================] - 0s 7ms/step\n",
      "=>Training with lag: 22\n",
      "(518, 22, 1)\n",
      "17/17 [==============================] - 0s 8ms/step\n",
      "=>Training with lag: 23\n",
      "(517, 23, 1)\n",
      "17/17 [==============================] - 1s 6ms/step\n",
      "=>Training with lag: 24\n",
      "(516, 24, 1)\n",
      "17/17 [==============================] - 0s 7ms/step\n",
      "=>Training with lag: 25\n",
      "(515, 25, 1)\n",
      "17/17 [==============================] - 0s 7ms/step\n",
      "=>Training with lag: 26\n",
      "(514, 26, 1)\n",
      "17/17 [==============================] - 1s 9ms/step\n",
      "=>Training with lag: 27\n",
      "(513, 27, 1)\n",
      "17/17 [==============================] - 0s 6ms/step\n",
      "=>Training with lag: 28\n",
      "(512, 28, 1)\n",
      "16/16 [==============================] - 0s 6ms/step\n",
      "=>Training with lag: 29\n",
      "(511, 29, 1)\n",
      "16/16 [==============================] - 0s 7ms/step\n",
      "=>Training with lag: 30\n",
      "(510, 30, 1)\n",
      "16/16 [==============================] - 0s 7ms/step\n",
      "=>Training with lag: 31\n",
      "(509, 31, 1)\n",
      "16/16 [==============================] - 0s 7ms/step\n",
      "=>Training with lag: 32\n",
      "(508, 32, 1)\n",
      "16/16 [==============================] - 0s 9ms/step\n",
      "=>Training with lag: 33\n",
      "(507, 33, 1)\n",
      "16/16 [==============================] - 0s 9ms/step\n",
      "=>Training with lag: 34\n",
      "(506, 34, 1)\n",
      "16/16 [==============================] - 0s 8ms/step\n",
      "=>Training with lag: 35\n",
      "(505, 35, 1)\n",
      "16/16 [==============================] - 1s 8ms/step\n",
      "=>Training with lag: 36\n",
      "(504, 36, 1)\n",
      "16/16 [==============================] - 1s 11ms/step\n",
      "=>Training with lag: 37\n",
      "(503, 37, 1)\n",
      "16/16 [==============================] - 0s 11ms/step\n",
      "=>Training with lag: 38\n",
      "(502, 38, 1)\n",
      "16/16 [==============================] - 1s 12ms/step\n",
      "=>Training with lag: 39\n",
      "(501, 39, 1)\n",
      "16/16 [==============================] - 0s 12ms/step\n",
      "=>Training with lag: 40\n",
      "(500, 40, 1)\n",
      "16/16 [==============================] - 0s 15ms/step\n",
      "=>Training with lag: 41\n",
      "(499, 41, 1)\n",
      "16/16 [==============================] - 1s 41ms/step\n",
      "=>Training with lag: 42\n",
      "(498, 42, 1)\n",
      "16/16 [==============================] - 2s 42ms/step\n",
      "=>Training with lag: 43\n",
      "(497, 43, 1)\n",
      "16/16 [==============================] - 2s 47ms/step\n",
      "=>Training with lag: 44\n",
      "(496, 44, 1)\n",
      "16/16 [==============================] - 2s 26ms/step\n",
      "=>Training with lag: 45\n",
      "(495, 45, 1)\n",
      "16/16 [==============================] - 1s 29ms/step\n",
      "=>Training with lag: 46\n",
      "(494, 46, 1)\n",
      "16/16 [==============================] - 2s 41ms/step\n",
      "=>Training with lag: 47\n",
      "(493, 47, 1)\n",
      "16/16 [==============================] - 3s 43ms/step\n",
      "=>Training with lag: 48\n",
      "(492, 48, 1)\n",
      "16/16 [==============================] - 2s 41ms/step\n",
      "=>Training with lag: 49\n",
      "(491, 49, 1)\n",
      "16/16 [==============================] - 2s 42ms/step\n",
      "=>Training with lag: 50\n",
      "(490, 50, 1)\n",
      "16/16 [==============================] - 3s 43ms/step\n",
      "=>Training with lag: 51\n",
      "(489, 51, 1)\n",
      "16/16 [==============================] - 2s 43ms/step\n",
      "=>Training with lag: 52\n",
      "(488, 52, 1)\n",
      "16/16 [==============================] - 0s 10ms/step\n",
      "=>Training with lag: 53\n",
      "(487, 53, 1)\n",
      "16/16 [==============================] - 0s 12ms/step\n",
      "=>Training with lag: 54\n",
      "(486, 54, 1)\n",
      "16/16 [==============================] - 0s 12ms/step\n",
      "=>Training with lag: 55\n",
      "(485, 55, 1)\n",
      "16/16 [==============================] - 0s 14ms/step\n",
      "=>Training with lag: 56\n",
      "(484, 56, 1)\n",
      "16/16 [==============================] - 1s 16ms/step\n",
      "=>Training with lag: 57\n",
      "(483, 57, 1)\n",
      "16/16 [==============================] - 1s 16ms/step\n",
      "=>Training with lag: 58\n",
      "(482, 58, 1)\n",
      "16/16 [==============================] - 0s 15ms/step\n",
      "=>Training with lag: 59\n",
      "(481, 59, 1)\n",
      "16/16 [==============================] - 1s 11ms/step\n",
      "=>Training with lag: 60\n",
      "(480, 60, 1)\n",
      "15/15 [==============================] - 0s 11ms/step\n",
      "=>Training with lag: 61\n",
      "(479, 61, 1)\n",
      "15/15 [==============================] - 0s 16ms/step\n",
      "=>Training with lag: 62\n",
      "(478, 62, 1)\n",
      "15/15 [==============================] - 1s 12ms/step\n",
      "=>Training with lag: 63\n",
      "(477, 63, 1)\n",
      "15/15 [==============================] - 1s 12ms/step\n",
      "=>Training with lag: 64\n",
      "(476, 64, 1)\n",
      "15/15 [==============================] - 0s 12ms/step\n",
      "=>Training with lag: 65\n",
      "(475, 65, 1)\n",
      "15/15 [==============================] - 1s 12ms/step\n",
      "=>Training with lag: 66\n",
      "(474, 66, 1)\n",
      "15/15 [==============================] - 0s 14ms/step\n",
      "=>Training with lag: 67\n",
      "(473, 67, 1)\n",
      "15/15 [==============================] - 0s 13ms/step\n",
      "=>Training with lag: 68\n",
      "(472, 68, 1)\n",
      "15/15 [==============================] - 1s 17ms/step\n",
      "=>Training with lag: 69\n",
      "(471, 69, 1)\n",
      "15/15 [==============================] - 0s 16ms/step\n",
      "=>Training with lag: 70\n",
      "(470, 70, 1)\n",
      "15/15 [==============================] - 0s 13ms/step\n",
      "=>Training with lag: 71\n",
      "(469, 71, 1)\n",
      "15/15 [==============================] - 1s 14ms/step\n",
      "=>Training with lag: 72\n",
      "(468, 72, 1)\n",
      "15/15 [==============================] - 1s 33ms/step\n",
      "=>Training with lag: 73\n",
      "(467, 73, 1)\n",
      "15/15 [==============================] - 1s 29ms/step\n",
      "=>Training with lag: 74\n",
      "(466, 74, 1)\n",
      "15/15 [==============================] - 2s 36ms/step\n",
      "=>Training with lag: 75\n",
      "(465, 75, 1)\n",
      "15/15 [==============================] - 1s 44ms/step\n",
      "=>Training with lag: 76\n",
      "(464, 76, 1)\n",
      "15/15 [==============================] - 1s 53ms/step\n",
      "=>Training with lag: 77\n"
     ]
    },
    {
     "ename": "KeyboardInterrupt",
     "evalue": "",
     "output_type": "error",
     "traceback": [
      "\u001b[0;31m---------------------------------------------------------------------------\u001b[0m",
      "\u001b[0;31mKeyboardInterrupt\u001b[0m                         Traceback (most recent call last)",
      "\u001b[1;32m/home/ozi/Desktop/CQI-Timeseries-Forecasting/notebooks/lags_exp.ipynb Cell 8\u001b[0m line \u001b[0;36m<cell line: 1>\u001b[0;34m()\u001b[0m\n\u001b[1;32m      <a href='vscode-notebook-cell:/home/ozi/Desktop/CQI-Timeseries-Forecasting/notebooks/lags_exp.ipynb#X10sZmlsZQ%3D%3D?line=4'>5</a>\u001b[0m lstm_model\u001b[39m.\u001b[39mbuild()\n\u001b[1;32m      <a href='vscode-notebook-cell:/home/ozi/Desktop/CQI-Timeseries-Forecasting/notebooks/lags_exp.ipynb#X10sZmlsZQ%3D%3D?line=5'>6</a>\u001b[0m lstm_model\u001b[39m.\u001b[39mload_data()\n\u001b[0;32m----> <a href='vscode-notebook-cell:/home/ozi/Desktop/CQI-Timeseries-Forecasting/notebooks/lags_exp.ipynb#X10sZmlsZQ%3D%3D?line=6'>7</a>\u001b[0m history \u001b[39m=\u001b[39m lstm_model\u001b[39m.\u001b[39;49mtrain(BATCH_SIZE, EPOCHS, verbose\u001b[39m=\u001b[39;49m\u001b[39mFalse\u001b[39;49;00m)\n\u001b[1;32m      <a href='vscode-notebook-cell:/home/ozi/Desktop/CQI-Timeseries-Forecasting/notebooks/lags_exp.ipynb#X10sZmlsZQ%3D%3D?line=7'>8</a>\u001b[0m predictions \u001b[39m=\u001b[39m Inferer\u001b[39m.\u001b[39minfer(lstm_model\u001b[39m.\u001b[39m_model, X_test)\n\u001b[1;32m      <a href='vscode-notebook-cell:/home/ozi/Desktop/CQI-Timeseries-Forecasting/notebooks/lags_exp.ipynb#X10sZmlsZQ%3D%3D?line=8'>9</a>\u001b[0m lstm_abs_errors\u001b[39m.\u001b[39mappend(mean_absolute_error(predictions, y_test))\n",
      "File \u001b[0;32m~/Desktop/CQI-Timeseries-Forecasting/notebooks/../cqiforecasting/models/base_nn.py:31\u001b[0m, in \u001b[0;36mBaseNN.train\u001b[0;34m(self, batch_size, epochs, verbose)\u001b[0m\n\u001b[1;32m     29\u001b[0m \u001b[39mdef\u001b[39;00m \u001b[39mtrain\u001b[39m(\u001b[39mself\u001b[39m, batch_size, epochs, verbose\u001b[39m=\u001b[39m\u001b[39mTrue\u001b[39;00m):\n\u001b[1;32m     30\u001b[0m     \u001b[39mself\u001b[39m\u001b[39m.\u001b[39mcompile()\n\u001b[0;32m---> 31\u001b[0m     history \u001b[39m=\u001b[39m \u001b[39mself\u001b[39;49m\u001b[39m.\u001b[39;49m_model\u001b[39m.\u001b[39;49mfit(\u001b[39mself\u001b[39;49m\u001b[39m.\u001b[39;49mX_train, \u001b[39mself\u001b[39;49m\u001b[39m.\u001b[39;49my_train, batch_size\u001b[39m=\u001b[39;49mbatch_size, epochs\u001b[39m=\u001b[39;49mepochs, validation_data\u001b[39m=\u001b[39;49m(\u001b[39mself\u001b[39;49m\u001b[39m.\u001b[39;49mX_val, \u001b[39mself\u001b[39;49m\u001b[39m.\u001b[39;49my_val), verbose\u001b[39m=\u001b[39;49mverbose)\n\u001b[1;32m     33\u001b[0m     \u001b[39mreturn\u001b[39;00m history\n",
      "File \u001b[0;32m~/anaconda3/lib/python3.9/site-packages/keras/utils/traceback_utils.py:64\u001b[0m, in \u001b[0;36mfilter_traceback.<locals>.error_handler\u001b[0;34m(*args, **kwargs)\u001b[0m\n\u001b[1;32m     62\u001b[0m filtered_tb \u001b[39m=\u001b[39m \u001b[39mNone\u001b[39;00m\n\u001b[1;32m     63\u001b[0m \u001b[39mtry\u001b[39;00m:\n\u001b[0;32m---> 64\u001b[0m   \u001b[39mreturn\u001b[39;00m fn(\u001b[39m*\u001b[39;49margs, \u001b[39m*\u001b[39;49m\u001b[39m*\u001b[39;49mkwargs)\n\u001b[1;32m     65\u001b[0m \u001b[39mexcept\u001b[39;00m \u001b[39mException\u001b[39;00m \u001b[39mas\u001b[39;00m e:  \u001b[39m# pylint: disable=broad-except\u001b[39;00m\n\u001b[1;32m     66\u001b[0m   filtered_tb \u001b[39m=\u001b[39m _process_traceback_frames(e\u001b[39m.\u001b[39m__traceback__)\n",
      "File \u001b[0;32m~/anaconda3/lib/python3.9/site-packages/keras/engine/training.py:1409\u001b[0m, in \u001b[0;36mModel.fit\u001b[0;34m(self, x, y, batch_size, epochs, verbose, callbacks, validation_split, validation_data, shuffle, class_weight, sample_weight, initial_epoch, steps_per_epoch, validation_steps, validation_batch_size, validation_freq, max_queue_size, workers, use_multiprocessing)\u001b[0m\n\u001b[1;32m   1402\u001b[0m \u001b[39mwith\u001b[39;00m tf\u001b[39m.\u001b[39mprofiler\u001b[39m.\u001b[39mexperimental\u001b[39m.\u001b[39mTrace(\n\u001b[1;32m   1403\u001b[0m     \u001b[39m'\u001b[39m\u001b[39mtrain\u001b[39m\u001b[39m'\u001b[39m,\n\u001b[1;32m   1404\u001b[0m     epoch_num\u001b[39m=\u001b[39mepoch,\n\u001b[1;32m   1405\u001b[0m     step_num\u001b[39m=\u001b[39mstep,\n\u001b[1;32m   1406\u001b[0m     batch_size\u001b[39m=\u001b[39mbatch_size,\n\u001b[1;32m   1407\u001b[0m     _r\u001b[39m=\u001b[39m\u001b[39m1\u001b[39m):\n\u001b[1;32m   1408\u001b[0m   callbacks\u001b[39m.\u001b[39mon_train_batch_begin(step)\n\u001b[0;32m-> 1409\u001b[0m   tmp_logs \u001b[39m=\u001b[39m \u001b[39mself\u001b[39;49m\u001b[39m.\u001b[39;49mtrain_function(iterator)\n\u001b[1;32m   1410\u001b[0m   \u001b[39mif\u001b[39;00m data_handler\u001b[39m.\u001b[39mshould_sync:\n\u001b[1;32m   1411\u001b[0m     context\u001b[39m.\u001b[39masync_wait()\n",
      "File \u001b[0;32m~/anaconda3/lib/python3.9/site-packages/tensorflow/python/util/traceback_utils.py:150\u001b[0m, in \u001b[0;36mfilter_traceback.<locals>.error_handler\u001b[0;34m(*args, **kwargs)\u001b[0m\n\u001b[1;32m    148\u001b[0m filtered_tb \u001b[39m=\u001b[39m \u001b[39mNone\u001b[39;00m\n\u001b[1;32m    149\u001b[0m \u001b[39mtry\u001b[39;00m:\n\u001b[0;32m--> 150\u001b[0m   \u001b[39mreturn\u001b[39;00m fn(\u001b[39m*\u001b[39;49margs, \u001b[39m*\u001b[39;49m\u001b[39m*\u001b[39;49mkwargs)\n\u001b[1;32m    151\u001b[0m \u001b[39mexcept\u001b[39;00m \u001b[39mException\u001b[39;00m \u001b[39mas\u001b[39;00m e:\n\u001b[1;32m    152\u001b[0m   filtered_tb \u001b[39m=\u001b[39m _process_traceback_frames(e\u001b[39m.\u001b[39m__traceback__)\n",
      "File \u001b[0;32m~/anaconda3/lib/python3.9/site-packages/tensorflow/python/eager/def_function.py:915\u001b[0m, in \u001b[0;36mFunction.__call__\u001b[0;34m(self, *args, **kwds)\u001b[0m\n\u001b[1;32m    912\u001b[0m compiler \u001b[39m=\u001b[39m \u001b[39m\"\u001b[39m\u001b[39mxla\u001b[39m\u001b[39m\"\u001b[39m \u001b[39mif\u001b[39;00m \u001b[39mself\u001b[39m\u001b[39m.\u001b[39m_jit_compile \u001b[39melse\u001b[39;00m \u001b[39m\"\u001b[39m\u001b[39mnonXla\u001b[39m\u001b[39m\"\u001b[39m\n\u001b[1;32m    914\u001b[0m \u001b[39mwith\u001b[39;00m OptionalXlaContext(\u001b[39mself\u001b[39m\u001b[39m.\u001b[39m_jit_compile):\n\u001b[0;32m--> 915\u001b[0m   result \u001b[39m=\u001b[39m \u001b[39mself\u001b[39;49m\u001b[39m.\u001b[39;49m_call(\u001b[39m*\u001b[39;49margs, \u001b[39m*\u001b[39;49m\u001b[39m*\u001b[39;49mkwds)\n\u001b[1;32m    917\u001b[0m new_tracing_count \u001b[39m=\u001b[39m \u001b[39mself\u001b[39m\u001b[39m.\u001b[39mexperimental_get_tracing_count()\n\u001b[1;32m    918\u001b[0m without_tracing \u001b[39m=\u001b[39m (tracing_count \u001b[39m==\u001b[39m new_tracing_count)\n",
      "File \u001b[0;32m~/anaconda3/lib/python3.9/site-packages/tensorflow/python/eager/def_function.py:980\u001b[0m, in \u001b[0;36mFunction._call\u001b[0;34m(self, *args, **kwds)\u001b[0m\n\u001b[1;32m    976\u001b[0m     \u001b[39mpass\u001b[39;00m  \u001b[39m# Fall through to cond-based initialization.\u001b[39;00m\n\u001b[1;32m    977\u001b[0m   \u001b[39melse\u001b[39;00m:\n\u001b[1;32m    978\u001b[0m     \u001b[39m# Lifting succeeded, so variables are initialized and we can run the\u001b[39;00m\n\u001b[1;32m    979\u001b[0m     \u001b[39m# stateless function.\u001b[39;00m\n\u001b[0;32m--> 980\u001b[0m     \u001b[39mreturn\u001b[39;00m \u001b[39mself\u001b[39;49m\u001b[39m.\u001b[39;49m_stateless_fn(\u001b[39m*\u001b[39;49margs, \u001b[39m*\u001b[39;49m\u001b[39m*\u001b[39;49mkwds)\n\u001b[1;32m    981\u001b[0m \u001b[39melse\u001b[39;00m:\n\u001b[1;32m    982\u001b[0m   _, _, filtered_flat_args \u001b[39m=\u001b[39m (\n\u001b[1;32m    983\u001b[0m       \u001b[39mself\u001b[39m\u001b[39m.\u001b[39m_stateful_fn\u001b[39m.\u001b[39m_function_spec\u001b[39m.\u001b[39mcanonicalize_function_inputs(  \u001b[39m# pylint: disable=protected-access\u001b[39;00m\n\u001b[1;32m    984\u001b[0m           \u001b[39m*\u001b[39margs, \u001b[39m*\u001b[39m\u001b[39m*\u001b[39mkwds))\n",
      "File \u001b[0;32m~/anaconda3/lib/python3.9/site-packages/tensorflow/python/eager/function.py:2453\u001b[0m, in \u001b[0;36mFunction.__call__\u001b[0;34m(self, *args, **kwargs)\u001b[0m\n\u001b[1;32m   2450\u001b[0m \u001b[39mwith\u001b[39;00m \u001b[39mself\u001b[39m\u001b[39m.\u001b[39m_lock:\n\u001b[1;32m   2451\u001b[0m   (graph_function,\n\u001b[1;32m   2452\u001b[0m    filtered_flat_args) \u001b[39m=\u001b[39m \u001b[39mself\u001b[39m\u001b[39m.\u001b[39m_maybe_define_function(args, kwargs)\n\u001b[0;32m-> 2453\u001b[0m \u001b[39mreturn\u001b[39;00m graph_function\u001b[39m.\u001b[39;49m_call_flat(\n\u001b[1;32m   2454\u001b[0m     filtered_flat_args, captured_inputs\u001b[39m=\u001b[39;49mgraph_function\u001b[39m.\u001b[39;49mcaptured_inputs)\n",
      "File \u001b[0;32m~/anaconda3/lib/python3.9/site-packages/tensorflow/python/eager/function.py:1860\u001b[0m, in \u001b[0;36mConcreteFunction._call_flat\u001b[0;34m(self, args, captured_inputs, cancellation_manager)\u001b[0m\n\u001b[1;32m   1856\u001b[0m possible_gradient_type \u001b[39m=\u001b[39m gradients_util\u001b[39m.\u001b[39mPossibleTapeGradientTypes(args)\n\u001b[1;32m   1857\u001b[0m \u001b[39mif\u001b[39;00m (possible_gradient_type \u001b[39m==\u001b[39m gradients_util\u001b[39m.\u001b[39mPOSSIBLE_GRADIENT_TYPES_NONE\n\u001b[1;32m   1858\u001b[0m     \u001b[39mand\u001b[39;00m executing_eagerly):\n\u001b[1;32m   1859\u001b[0m   \u001b[39m# No tape is watching; skip to running the function.\u001b[39;00m\n\u001b[0;32m-> 1860\u001b[0m   \u001b[39mreturn\u001b[39;00m \u001b[39mself\u001b[39m\u001b[39m.\u001b[39m_build_call_outputs(\u001b[39mself\u001b[39;49m\u001b[39m.\u001b[39;49m_inference_function\u001b[39m.\u001b[39;49mcall(\n\u001b[1;32m   1861\u001b[0m       ctx, args, cancellation_manager\u001b[39m=\u001b[39;49mcancellation_manager))\n\u001b[1;32m   1862\u001b[0m forward_backward \u001b[39m=\u001b[39m \u001b[39mself\u001b[39m\u001b[39m.\u001b[39m_select_forward_and_backward_functions(\n\u001b[1;32m   1863\u001b[0m     args,\n\u001b[1;32m   1864\u001b[0m     possible_gradient_type,\n\u001b[1;32m   1865\u001b[0m     executing_eagerly)\n\u001b[1;32m   1866\u001b[0m forward_function, args_with_tangents \u001b[39m=\u001b[39m forward_backward\u001b[39m.\u001b[39mforward()\n",
      "File \u001b[0;32m~/anaconda3/lib/python3.9/site-packages/tensorflow/python/eager/function.py:497\u001b[0m, in \u001b[0;36m_EagerDefinedFunction.call\u001b[0;34m(self, ctx, args, cancellation_manager)\u001b[0m\n\u001b[1;32m    495\u001b[0m \u001b[39mwith\u001b[39;00m _InterpolateFunctionError(\u001b[39mself\u001b[39m):\n\u001b[1;32m    496\u001b[0m   \u001b[39mif\u001b[39;00m cancellation_manager \u001b[39mis\u001b[39;00m \u001b[39mNone\u001b[39;00m:\n\u001b[0;32m--> 497\u001b[0m     outputs \u001b[39m=\u001b[39m execute\u001b[39m.\u001b[39;49mexecute(\n\u001b[1;32m    498\u001b[0m         \u001b[39mstr\u001b[39;49m(\u001b[39mself\u001b[39;49m\u001b[39m.\u001b[39;49msignature\u001b[39m.\u001b[39;49mname),\n\u001b[1;32m    499\u001b[0m         num_outputs\u001b[39m=\u001b[39;49m\u001b[39mself\u001b[39;49m\u001b[39m.\u001b[39;49m_num_outputs,\n\u001b[1;32m    500\u001b[0m         inputs\u001b[39m=\u001b[39;49margs,\n\u001b[1;32m    501\u001b[0m         attrs\u001b[39m=\u001b[39;49mattrs,\n\u001b[1;32m    502\u001b[0m         ctx\u001b[39m=\u001b[39;49mctx)\n\u001b[1;32m    503\u001b[0m   \u001b[39melse\u001b[39;00m:\n\u001b[1;32m    504\u001b[0m     outputs \u001b[39m=\u001b[39m execute\u001b[39m.\u001b[39mexecute_with_cancellation(\n\u001b[1;32m    505\u001b[0m         \u001b[39mstr\u001b[39m(\u001b[39mself\u001b[39m\u001b[39m.\u001b[39msignature\u001b[39m.\u001b[39mname),\n\u001b[1;32m    506\u001b[0m         num_outputs\u001b[39m=\u001b[39m\u001b[39mself\u001b[39m\u001b[39m.\u001b[39m_num_outputs,\n\u001b[0;32m   (...)\u001b[0m\n\u001b[1;32m    509\u001b[0m         ctx\u001b[39m=\u001b[39mctx,\n\u001b[1;32m    510\u001b[0m         cancellation_manager\u001b[39m=\u001b[39mcancellation_manager)\n",
      "File \u001b[0;32m~/anaconda3/lib/python3.9/site-packages/tensorflow/python/eager/execute.py:54\u001b[0m, in \u001b[0;36mquick_execute\u001b[0;34m(op_name, num_outputs, inputs, attrs, ctx, name)\u001b[0m\n\u001b[1;32m     52\u001b[0m \u001b[39mtry\u001b[39;00m:\n\u001b[1;32m     53\u001b[0m   ctx\u001b[39m.\u001b[39mensure_initialized()\n\u001b[0;32m---> 54\u001b[0m   tensors \u001b[39m=\u001b[39m pywrap_tfe\u001b[39m.\u001b[39;49mTFE_Py_Execute(ctx\u001b[39m.\u001b[39;49m_handle, device_name, op_name,\n\u001b[1;32m     55\u001b[0m                                       inputs, attrs, num_outputs)\n\u001b[1;32m     56\u001b[0m \u001b[39mexcept\u001b[39;00m core\u001b[39m.\u001b[39m_NotOkStatusException \u001b[39mas\u001b[39;00m e:\n\u001b[1;32m     57\u001b[0m   \u001b[39mif\u001b[39;00m name \u001b[39mis\u001b[39;00m \u001b[39mnot\u001b[39;00m \u001b[39mNone\u001b[39;00m:\n",
      "\u001b[0;31mKeyboardInterrupt\u001b[0m: "
     ]
    }
   ],
   "source": [
    "for i in range(1,81):\n",
    "    print(f\"=>Training with lag: {i}\")\n",
    "    X_train, X_val, X_test, y_train, y_val, y_test = data_loader.load_sequences(i, 1, scale=False)\n",
    "    lstm_model = LSTMModel(i, CFGLog)\n",
    "    lstm_model.build()\n",
    "    lstm_model.load_data()\n",
    "    history = lstm_model.train(BATCH_SIZE, EPOCHS, verbose=False)\n",
    "    predictions = Inferer.infer(lstm_model._model, X_test)\n",
    "    lstm_abs_errors.append(mean_absolute_error(predictions, y_test))"
   ]
  },
  {
   "cell_type": "code",
   "execution_count": 8,
   "metadata": {},
   "outputs": [
    {
     "data": {
      "text/plain": [
       "[2.256327311492807,\n",
       " 2.10858631488559,\n",
       " 2.1402905746545207,\n",
       " 2.135955457367114,\n",
       " 2.0726975004249644,\n",
       " 2.0761964017532293,\n",
       " 2.0511760640099617,\n",
       " 2.0592112110969714,\n",
       " 2.0324497833539312,\n",
       " 2.078070590181171,\n",
       " 2.0387384868975174,\n",
       " 2.0688168460672554,\n",
       " 2.019142690148254,\n",
       " 2.0371162220552392,\n",
       " 2.0448078391665505,\n",
       " 2.040940461267952,\n",
       " 2.0356882097160383,\n",
       " 2.054356365825025,\n",
       " 2.0901540675684953,\n",
       " 2.0150349140167236,\n",
       " 2.0586715093697197,\n",
       " 2.2160081706912362,\n",
       " 2.0202241322058083,\n",
       " 2.040892234144285,\n",
       " 2.042517666677827,\n",
       " 1.9922491038355845,\n",
       " 2.0018495472318714,\n",
       " 1.9794373204931617,\n",
       " 1.988099502257405,\n",
       " 2.0407113262251313,\n",
       " 2.0399341217895386,\n",
       " 2.023883480725326,\n",
       " 1.9758547673799112,\n",
       " 2.0741955536627485,\n",
       " 2.0198166205151247,\n",
       " 1.9623621087225656,\n",
       " 2.0295550742632824,\n",
       " 2.0317811282032516,\n",
       " 2.0186337967832646,\n",
       " 2.0288488969802856,\n",
       " 2.0621279666801255,\n",
       " 1.9840514133254208,\n",
       " 2.0107756687601808,\n",
       " 1.9713997600540039,\n",
       " 2.0012183025629833,\n",
       " 2.014388451209435,\n",
       " 1.9441415301201068,\n",
       " 1.984732639498827,\n",
       " 2.0393594452417068,\n",
       " 1.9973148141588484,\n",
       " 2.1526701611243872,\n",
       " 2.002356162813843,\n",
       " 2.0182006040882525,\n",
       " 2.080790949456486,\n",
       " 2.0449454740150688,\n",
       " 1.9913831082257358,\n",
       " 1.9884789054191383,\n",
       " 2.06696562747243,\n",
       " 1.9957807515118573,\n",
       " 2.053307463725408,\n",
       " 2.0975434327175324,\n",
       " 2.1126477119812908,\n",
       " 1.9662958091160037,\n",
       " 2.0481908481662012,\n",
       " 2.0391446013199657,\n",
       " 1.994831136510342,\n",
       " 2.095626660683694,\n",
       " 1.9919347995418613,\n",
       " 2.103117394092989,\n",
       " 2.147971848224072,\n",
       " 2.083398119473,\n",
       " 2.021353121496673,\n",
       " 35940.923616919834,\n",
       " 2.0488126789551435,\n",
       " 2.0187171177197527,\n",
       " 2.010658376175782]"
      ]
     },
     "execution_count": 8,
     "metadata": {},
     "output_type": "execute_result"
    }
   ],
   "source": [
    "lstm_abs_errors"
   ]
  },
  {
   "cell_type": "code",
   "execution_count": 15,
   "metadata": {},
   "outputs": [
    {
     "data": {
      "image/png": "[encoded data removed]",
      "text/plain": [
       "<Figure size 432x288 with 1 Axes>"
      ]
     },
     "metadata": {
      "needs_background": "light"
     },
     "output_type": "display_data"
    }
   ],
   "source": [
    "plt.plot([i for i in range(1,71)],lstm_abs_errors[:70])\n",
    "plt.title(\"Mean Absolute Error vs Lags for LSTM Model\")\n",
    "plt.xlabel(\"Lags\")\n",
    "plt.ylabel(\"MAE\");"
   ]
  },
  {
   "cell_type": "code",
   "execution_count": 16,
   "metadata": {},
   "outputs": [],
   "source": [
    "pd.DataFrame({\"MAE\":lstm_abs_errors}).to_csv(\"../output/exported_models/models/lstm_lags_MAEs.csv\")"
   ]
  },
  {
   "cell_type": "markdown",
   "metadata": {},
   "source": [
    "### Bi-lstm model"
   ]
  },
  {
   "cell_type": "code",
   "execution_count": null,
   "metadata": {},
   "outputs": [],
   "source": [
    "from cqiforecasting.models.bi_lstm_model import BiLSTMModel"
   ]
  },
  {
   "cell_type": "code",
   "execution_count": null,
   "metadata": {},
   "outputs": [],
   "source": [
    "BATCH_SIZE = 64\n",
    "EPOCHS = 55"
   ]
  },
  {
   "cell_type": "code",
   "execution_count": null,
   "metadata": {},
   "outputs": [],
   "source": [
    "bi_lstm_abs_errors = []"
   ]
  },
  {
   "cell_type": "code",
   "execution_count": null,
   "metadata": {},
   "outputs": [],
   "source": [
    "for i in range(1,61):\n",
    "    X_train, X_val, X_test, y_train, y_val, y_test = data_loader.load_sequences(i, 1, scale=False)\n",
    "    bi_lstm_model = BiLSTMModel(i, CFGLog)\n",
    "    bi_lstm_model.build()\n",
    "    bi_lstm_model.load_data()\n",
    "    history = bi_lstm_model.train(BATCH_SIZE, EPOCHS)\n",
    "    predictions = Inferer.infer(bi_lstm_model._model, X_test)\n",
    "    bi_lstm_abs_errors.append(mean_absolute_error(predictions, y_test))"
   ]
  }
 ],
 "metadata": {
  "kernelspec": {
   "display_name": "Python 3",
   "language": "python",
   "name": "python3"
  },
  "language_info": {
   "codemirror_mode": {
    "name": "ipython",
    "version": 3
   },
   "file_extension": ".py",
   "mimetype": "text/x-python",
   "name": "python",
   "nbconvert_exporter": "python",
   "pygments_lexer": "ipython3",
   "version": "3.9.12"
  }
 },
 "nbformat": 4,
 "nbformat_minor": 2
}
